{
  "nbformat": 4,
  "nbformat_minor": 0,
  "metadata": {
    "colab": {
      "provenance": []
    },
    "kernelspec": {
      "name": "python3",
      "display_name": "Python 3"
    },
    "language_info": {
      "name": "python"
    }
  },
  "cells": [
    {
      "cell_type": "code",
      "source": [
        "from itertools import product\n",
        "\n",
        "mass_to_amino = {\n",
        "    57:  ['G'],   71:  ['A'],   87:  ['S'],   97:  ['P'],\n",
        "    99:  ['V'],  101:  ['T'],  103:  ['C'],  113: ['I', 'L'],\n",
        "   114:  ['N'],  115:  ['D'],  128: ['K', 'Q'], 129: ['E'],\n",
        "   131:  ['M'],  137:  ['H'],  147: ['F'],  156: ['R'],\n",
        "   163:  ['Y'],  186: ['W']\n",
        "}\n",
        "\n",
        "amino_acids = list(mass_to_amino.keys())\n",
        "\n",
        "def get_cyclic_spectrum_kmers(peptide):\n",
        "    spectrum = [0]\n",
        "    n = len(peptide)\n",
        "    extended = peptide + peptide\n",
        "    total_mass = sum(peptide)\n",
        "\n",
        "    for k in range(1, n):\n",
        "        for i in range(n):\n",
        "            kmer = extended[i:i + k]\n",
        "            kmer_mass = sum(kmer)\n",
        "            spectrum.append(kmer_mass)\n",
        "\n",
        "    spectrum.append(total_mass)\n",
        "    return sorted(spectrum)\n",
        "\n",
        "\n",
        "def brute_force_cyclopeptide_sequencing(spectrum):\n",
        "    parent_mass = max(spectrum)\n",
        "    peptides = [[]]\n",
        "    final_peptides = []\n",
        "\n",
        "    while peptides:\n",
        "        new_peptides = []\n",
        "        for pep in peptides:\n",
        "            for mass in amino_acids:\n",
        "                new_pep = pep + [mass]\n",
        "                total = sum(new_pep)\n",
        "                if total == parent_mass:\n",
        "                    if get_cyclic_spectrum_kmers(new_pep) == sorted(spectrum):\n",
        "                        final_peptides.append(new_pep)\n",
        "                elif total < parent_mass:\n",
        "                    new_peptides.append(new_pep)\n",
        "        peptides = new_peptides\n",
        "\n",
        "    return final_peptides\n",
        "\n",
        "spectrum = [0, 114, 128, 129, 242, 243, 257, 371] #NQEL 484 as TMDH\n",
        "\n",
        "''' [0, 101, 115, 128, 129, 131, 137, 156, 229, 232, 246, 252, 257, 285, 293,\n",
        " 347, 358, 360, 383, 408, 413, 422, 475, 484, 489, 514, 537, 539, 550, 604,\n",
        " 612, 640, 645, 651, 665, 668, 741, 760, 766, 768, 769, 782, 796, 897] TMDHREK\n",
        "'''\n",
        "\n",
        "results = brute_force_cyclopeptide_sequencing(spectrum)\n",
        "\n",
        "for peptide in results:\n",
        "    mass_string = \"-\".join(str(m) for m in peptide)\n",
        "    letter_options = [mass_to_amino.get(m, ['?']) for m in peptide]\n",
        "    all_sequences = [\"\".join(p) for p in product(*letter_options)]\n",
        "    print(f\"{mass_string} => {', '.join(all_sequences)}\")\n"
      ],
      "metadata": {
        "colab": {
          "base_uri": "https://localhost:8080/"
        },
        "id": "dKzVLAd-WtZ_",
        "outputId": "8908d7dd-45f5-417a-c79a-22f54d790ac0"
      },
      "execution_count": null,
      "outputs": [
        {
          "output_type": "stream",
          "name": "stdout",
          "text": [
            "114-128-129 => NKE, NQE\n",
            "114-129-128 => NEK, NEQ\n",
            "128-114-129 => KNE, QNE\n",
            "128-129-114 => KEN, QEN\n",
            "129-114-128 => ENK, ENQ\n",
            "129-128-114 => EKN, EQN\n"
          ]
        }
      ]
    }
  ]
}