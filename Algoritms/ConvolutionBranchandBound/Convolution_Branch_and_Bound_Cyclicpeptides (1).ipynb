{
  "cells": [
    {
      "cell_type": "code",
      "execution_count": null,
      "metadata": {
        "id": "RYehzntISAlT"
      },
      "outputs": [],
      "source": [
        "def read_mgf_peaks(file_path):\n",
        "    spectrum = [0]  # start with 0\n",
        "    with open(file_path, 'r') as f:\n",
        "        for line in f:\n",
        "            line = line.strip()\n",
        "            if line and not line.startswith(('BEGIN', 'END', 'PEPMASS', 'CHARGE')):\n",
        "                try:\n",
        "                    mz = float(line.split()[0])\n",
        "                    spectrum.append(round(mz))\n",
        "                except:\n",
        "                    continue\n",
        "    return sorted(spectrum)"
      ]
    },
    {
      "cell_type": "code",
      "execution_count": null,
      "metadata": {
        "id": "XuYTyF2214UJ"
      },
      "outputs": [],
      "source": []
    },
    {
      "cell_type": "markdown",
      "metadata": {
        "id": "FqIaQ8WU16R5"
      },
      "source": [
        "convolution"
      ]
    },
    {
      "cell_type": "code",
      "execution_count": null,
      "metadata": {
        "id": "9uJRk5i3dNrj"
      },
      "outputs": [],
      "source": [
        "from collections import Counter\n",
        "\n",
        "def spectral_convolution(spectrum, min_mass=57, max_mass=200, n=10):\n",
        "    convolution = []\n",
        "    spectrum.sort()\n",
        "    for i in range(len(spectrum)):\n",
        "        for j in range(i + 1, len(spectrum)):\n",
        "            diff = spectrum[j] - spectrum[i]\n",
        "            if min_mass <= diff <= max_mass:\n",
        "                convolution.append(diff)\n",
        "    return [x[0] for x in Counter(convolution).most_common(n)]"
      ]
    },
    {
      "cell_type": "code",
      "execution_count": null,
      "metadata": {
        "id": "l3hjS0vFc8Qv"
      },
      "outputs": [],
      "source": [
        "#@title Amio acids mapping and prefix mass calc\n",
        "\n",
        "def compute_prefix_mass(peptide): #[0,2,3,4] example\n",
        "    prefix_mass = [0] # list to store the prefix / cumlutaive masses\n",
        "    current = 0        # the first item is 0, the second is 0+first mass in the peptide--> mass of the 1 amino acid, third is the mass of 1 and 2 amino acids\n",
        "    for i in peptide:\n",
        "        current += i\n",
        "        prefix_mass.append(current)\n",
        "    return prefix_mass"
      ]
    },
    {
      "cell_type": "code",
      "execution_count": null,
      "metadata": {
        "id": "Kb8N2dqJdZXw"
      },
      "outputs": [],
      "source": [
        "#@title count and store the occurance of masses\n",
        "\n",
        "def count_masses(masses): # the function takes list of integers represent the masses\n",
        "    count_dict = {} # key is the mass value how many it's appeared\n",
        "    for m in masses:\n",
        "        if m in count_dict:\n",
        "            count_dict[m] += 1\n",
        "        else:\n",
        "            count_dict[m] = 1\n",
        "    return count_dict\n",
        "\n",
        "# total mass\n",
        "def mass(peptide):\n",
        "    return sum(peptide)\n",
        "\n",
        "def parent_mass(spectrum):\n",
        "    return max(spectrum)\n"
      ]
    },
    {
      "cell_type": "code",
      "execution_count": null,
      "metadata": {
        "id": "TsV2TsCtelK3"
      },
      "outputs": [],
      "source": [
        "#@title calculate the mass of each possible fragment could be genrated from the peptide\n",
        "\n",
        "# Linear spectrum\n",
        "\n",
        "def linear_spectrum(peptide):\n",
        "    prefix_mass = compute_prefix_mass(peptide)\n",
        "    spectrum = [0]\n",
        "    for i in range(len(peptide)):\n",
        "        for j in range(i+1, len(peptide)+1):\n",
        "            spectrum.append(prefix_mass[j] - prefix_mass[i])\n",
        "    return sorted(spectrum)\n",
        "\n",
        "def cyclic_spectrum(peptide):\n",
        "    n = len(peptide)\n",
        "    prefix_mass = compute_prefix_mass(peptide)\n",
        "    peptide_mass = prefix_mass[-1]\n",
        "    spectrum = [0]\n",
        "    for i in range(n):\n",
        "        for j in range(i+1, n+1):\n",
        "            sub = prefix_mass[j] - prefix_mass[i]\n",
        "            spectrum.append(sub)\n",
        "            if i > 0 and j < n:\n",
        "                wrap = peptide_mass - sub\n",
        "                spectrum.append(wrap)\n",
        "    return sorted(spectrum)\n"
      ]
    },
    {
      "cell_type": "code",
      "execution_count": null,
      "metadata": {
        "colab": {
          "base_uri": "https://localhost:8080/",
          "height": 70
        },
        "id": "3-mpP1CIgCcA",
        "outputId": "5541e505-0233-4a9f-89ef-ba217801a9d0"
      },
      "outputs": [
        {
          "output_type": "execute_result",
          "data": {
            "text/plain": [
              "\"\\nThe is_consistent() function checks whether a candidate peptide's linear fragment masses appear in the experimental spectrum without exceeding their observed counts.\\n This ensures the peptide is still a valid candidate for further expansion in the sequencing algorithm.\\n\""
            ],
            "application/vnd.google.colaboratory.intrinsic+json": {
              "type": "string"
            }
          },
          "metadata": {},
          "execution_count": 6
        }
      ],
      "source": [
        "#@title checking consistnecy\n",
        "\n",
        "# Check consistency using manual counts\n",
        "def is_consistent(peptide, spectrum):\n",
        "    spectrum_counts = count_masses(spectrum) # dict has masses vals and how many it's repeated of the experimental spectrum\n",
        "    peptide_counts = count_masses(linear_spectrum(peptide)) # count the freq of the mass of each possible fragment (sub-peptide)\n",
        "    for m in peptide_counts:\n",
        "        if peptide_counts[m] > spectrum_counts.get(m, 0): # if the mass of the fragemnts appeared more than observed reject it\n",
        "            return False\n",
        "    return True\n",
        "\n",
        "'''\n",
        "The is_consistent() function checks whether a candidate peptide's linear fragment masses appear in the experimental spectrum without exceeding their observed counts.\n",
        " This ensures the peptide is still a valid candidate for further expansion in the sequencing algorithm.\n",
        "'''"
      ]
    },
    {
      "cell_type": "code",
      "execution_count": null,
      "metadata": {
        "id": "nhUqrc9sx5IY"
      },
      "outputs": [],
      "source": [
        "#@title expanding peptides\n",
        "\n",
        "def expand(peptides, amino_acid_masses):\n",
        "    new_peptides = []\n",
        "    for peptide in peptides:\n",
        "        for m in amino_acid_masses:\n",
        "            new_peptides.append(peptide + [m])\n",
        "    return new_peptides\n"
      ]
    },
    {
      "cell_type": "code",
      "execution_count": null,
      "metadata": {
        "id": "20LPNAvKUGJA"
      },
      "outputs": [],
      "source": [
        "def score(peptide, spectrum, cyclic=True):\n",
        "    if cyclic:\n",
        "        theo = cyclic_spectrum(peptide)\n",
        "    else:\n",
        "        theo = linear_spectrum(peptide)\n",
        "\n",
        "    theo_counts = count_masses(theo)\n",
        "    spec_counts = count_masses(spectrum)\n",
        "\n",
        "    total = 0\n",
        "    for m in theo_counts:\n",
        "        if m in spec_counts:\n",
        "            total += min(theo_counts[m], spec_counts[m])\n",
        "    return total\n",
        "\n",
        "def trim(leaderboard, spectrum, N):\n",
        "    scored = []\n",
        "    for peptide in leaderboard:\n",
        "        s = score(peptide, spectrum, cyclic=False)\n",
        "        scored.append((peptide, s))\n",
        "    scored.sort(key=lambda x: x[1], reverse=True)\n",
        "\n",
        "    if len(scored) <= N:\n",
        "        return [p[0] for p in scored]\n",
        "\n",
        "    threshold = scored[N - 1][1]\n",
        "    return [p[0] for p in scored if p[1] >= threshold]\n"
      ]
    },
    {
      "cell_type": "code",
      "execution_count": null,
      "metadata": {
        "colab": {
          "base_uri": "https://localhost:8080/"
        },
        "id": "u4Ms6Lz2g_gj",
        "outputId": "26e78ee1-bf8b-4a38-b72a-602476c314fe"
      },
      "outputs": [
        {
          "output_type": "stream",
          "name": "stdout",
          "text": [
            "Best-scoring peptide: [131, 80, 148, 113, 97, 86, 86]\n"
          ]
        }
      ],
      "source": [
        "#@title main convolution BB algorinm\n",
        "\n",
        "def conv_leaderboard_cyclopeptide_sequencing(spectrum, N):\n",
        "    leaderboard = [[]]\n",
        "    leader_peptide = []\n",
        "    parent = parent_mass(spectrum)\n",
        "    amino_acid_masses = spectral_convolution(spectrum,n=30)\n",
        "    while leaderboard:\n",
        "        leaderboard = expand(leaderboard, amino_acid_masses)\n",
        "        for peptide in leaderboard[:]:\n",
        "            m = mass(peptide)\n",
        "            if m == parent:\n",
        "                if score(peptide, spectrum, cyclic=True) > score(leader_peptide, spectrum, cyclic=True):\n",
        "                    leader_peptide = peptide\n",
        "            elif m > parent:\n",
        "                leaderboard.remove(peptide)\n",
        "        leaderboard = trim(leaderboard, spectrum, N)\n",
        "\n",
        "    return leader_peptide\n",
        "\n",
        "\n",
        "\n",
        "spectrum = read_mgf_peaks(\"CCMSLIB00000531485.txt\")\n",
        "result = conv_leaderboard_cyclopeptide_sequencing(spectrum, N=100)\n",
        "\n",
        "print(\"Best-scoring peptide:\", result)\n"
      ]
    }
  ],
  "metadata": {
    "colab": {
      "provenance": []
    },
    "kernelspec": {
      "display_name": "Python 3",
      "name": "python3"
    },
    "language_info": {
      "name": "python"
    }
  },
  "nbformat": 4,
  "nbformat_minor": 0
}