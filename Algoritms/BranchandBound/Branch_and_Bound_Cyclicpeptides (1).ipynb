{
  "nbformat": 4,
  "nbformat_minor": 0,
  "metadata": {
    "colab": {
      "provenance": []
    },
    "kernelspec": {
      "name": "python3",
      "display_name": "Python 3"
    },
    "language_info": {
      "name": "python"
    }
  },
  "cells": [
    {
      "cell_type": "code",
      "source": [
        "def read_mgf_peaks(file_path):\n",
        "    spectrum = [0]  # start with 0\n",
        "    with open(file_path, 'r') as f:\n",
        "        for line in f:\n",
        "            line = line.strip()\n",
        "            if line and not line.startswith(('BEGIN', 'END', 'PEPMASS', 'CHARGE')):\n",
        "                try:\n",
        "                    mz = float(line.split()[0])\n",
        "                    spectrum.append(round(mz))\n",
        "                except:\n",
        "                    continue\n",
        "    return sorted(spectrum)"
      ],
      "metadata": {
        "id": "RYehzntISAlT"
      },
      "execution_count": null,
      "outputs": []
    },
    {
      "cell_type": "code",
      "source": [
        "#@title Amio acids mapping and prefix mass calc\n",
        "\n",
        "amino_acid_masses = [\n",
        "    57, 71, 87, 97, 99, 101, 103, 113,\n",
        "    114, 115, 128, 129, 131, 137, 147,\n",
        "    156, 163, 186\n",
        "]\n",
        "\n",
        "mass_to_aa = {\n",
        "    57: 'G', 71: 'A', 87: 'S', 97: 'P', 99: 'V',\n",
        "    101: 'T', 103: 'C', 113: 'I', 114: 'N', 115: 'D',\n",
        "    128: 'K', 129: 'E', 131: 'M', 137: 'H', 147: 'F',\n",
        "    156: 'R', 163: 'Y', 186: 'W'\n",
        "}\n",
        "\n",
        "def compute_prefix_mass(peptide): #[0,2,3,4] example\n",
        "    prefix_mass = [0] # list to store the prefix / cumlutaive masses\n",
        "    current = 0        # the first item is 0, the second is 0+first mass in the peptide--> mass of the 1 amino acid, third is the mass of 1 and 2 amino acids\n",
        "    for i in peptide:\n",
        "        current += i\n",
        "        prefix_mass.append(current)\n",
        "    return prefix_mass"
      ],
      "metadata": {
        "id": "l3hjS0vFc8Qv"
      },
      "execution_count": null,
      "outputs": []
    },
    {
      "cell_type": "code",
      "source": [
        "#@title count and store the occurance of masses\n",
        "\n",
        "def count_masses(masses): # the function takes list of integers represent the masses\n",
        "    count_dict = {} # key is the mass value how many it's appeared\n",
        "    for m in masses:\n",
        "        if m in count_dict:\n",
        "            count_dict[m] += 1\n",
        "        else:\n",
        "            count_dict[m] = 1\n",
        "    return count_dict\n",
        "\n",
        "# total mass\n",
        "def mass(peptide): # peptide is a list of masses\n",
        "    return sum(peptide)\n",
        "\n",
        "# the parent mass is the mass of the whole peptide\n",
        "def parent_mass(spectrum):\n",
        "    return max(spectrum)\n"
      ],
      "metadata": {
        "id": "Kb8N2dqJdZXw"
      },
      "execution_count": null,
      "outputs": []
    },
    {
      "cell_type": "code",
      "source": [
        "#@title calculate the mass of each possible fragment could be genrated from the peptide\n",
        "\n",
        "# Linear spectrum\n",
        "'''\n",
        "The spectrum shows masses of fragments that would appear if the peptide broke at various points\n",
        "Each mass corresponds to a possible fragment\n",
        "The function generates all possible linear fragments (no wrapping around)\n",
        "\n",
        "'''\n",
        "def linear_spectrum(peptide):\n",
        "    prefix_mass = compute_prefix_mass(peptide)\n",
        "    spectrum = [0]\n",
        "    for i in range(len(peptide)):\n",
        "        for j in range(i+1, len(peptide)+1):\n",
        "            spectrum.append(prefix_mass[j] - prefix_mass[i])\n",
        "    return sorted(spectrum)\n",
        "\n",
        "# Cyclic spectrum: includes wraparound subpeptides\n",
        "def cyclic_spectrum(peptide):\n",
        "    n = len(peptide)\n",
        "    prefix_mass = compute_prefix_mass(peptide)\n",
        "    peptide_mass = prefix_mass[-1]\n",
        "    spectrum = [0]\n",
        "    for i in range(n):\n",
        "        for j in range(i+1, n+1):\n",
        "            sub = prefix_mass[j] - prefix_mass[i]\n",
        "            spectrum.append(sub)\n",
        "            if i > 0 and j < n:\n",
        "                wrap = peptide_mass - sub\n",
        "                spectrum.append(wrap)\n",
        "    return sorted(spectrum)\n"
      ],
      "metadata": {
        "id": "TsV2TsCtelK3"
      },
      "execution_count": null,
      "outputs": []
    },
    {
      "cell_type": "code",
      "source": [
        "#@title checking consistnecy\n",
        "\n",
        "# Check consistency using manual counts\n",
        "def is_consistent(peptide, spectrum):\n",
        "    spectrum_counts = count_masses(spectrum) # dict has masses vals and how many it's repeated of the experimental spectrum\n",
        "    peptide_counts = count_masses(linear_spectrum(peptide)) # count the freq of the mass of each possible fragment (sub-peptide)\n",
        "    for m in peptide_counts:\n",
        "        if peptide_counts[m] > spectrum_counts.get(m, 0): # if the mass of the fragemnts appeared more than observed reject it\n",
        "            return False\n",
        "    return True\n",
        "\n",
        "'''\n",
        "The is_consistent() function checks whether a candidate peptide's linear fragment masses appear in the experimental spectrum without exceeding their observed counts.\n",
        " This ensures the peptide is still a valid candidate for further expansion in the sequencing algorithm.\n",
        "'''"
      ],
      "metadata": {
        "colab": {
          "base_uri": "https://localhost:8080/",
          "height": 71
        },
        "id": "3-mpP1CIgCcA",
        "outputId": "84568e0d-936a-4f74-9629-e3375b1afc78"
      },
      "execution_count": null,
      "outputs": [
        {
          "output_type": "execute_result",
          "data": {
            "text/plain": [
              "\"\\nThe is_consistent() function checks whether a candidate peptide's linear fragment masses appear in the experimental spectrum without exceeding their observed counts.\\n This ensures the peptide is still a valid candidate for further expansion in the sequencing algorithm.\\n\""
            ],
            "application/vnd.google.colaboratory.intrinsic+json": {
              "type": "string"
            }
          },
          "metadata": {},
          "execution_count": 5
        }
      ]
    },
    {
      "cell_type": "code",
      "source": [
        "#@title expanding peptides\n",
        "\n",
        "def expand(peptides):\n",
        "    new_peptides = []\n",
        "    for peptide in peptides:\n",
        "        for m in amino_acid_masses:\n",
        "            new_peptides.append(peptide + [m])\n",
        "    return new_peptides\n",
        "\n",
        "# Convert to amino acid letters\n",
        "def decode_peptide(peptide):\n",
        "    return ''.join(mass_to_aa.get(m, '?') for m in peptide)"
      ],
      "metadata": {
        "id": "nhUqrc9sx5IY"
      },
      "execution_count": null,
      "outputs": []
    },
    {
      "cell_type": "code",
      "source": [
        "def score(peptide, spectrum, cyclic=True):\n",
        "\n",
        "    theo = cyclic_spectrum(peptide)\n",
        "    theo_counts = count_masses(theo)\n",
        "    spec_counts = count_masses(spectrum)\n",
        "\n",
        "    total = 0\n",
        "    for m in theo_counts:\n",
        "        if m in spec_counts:\n",
        "            total += min(theo_counts[m], spec_counts[m])\n",
        "    return total\n",
        "\n",
        "def trim(leaderboard, spectrum, N):\n",
        "    scored = []\n",
        "    for peptide in leaderboard:\n",
        "        s = score(peptide, spectrum)\n",
        "        scored.append((peptide, s))\n",
        "\n",
        "def get_top_peptides(scored, N):\n",
        "    for i in range(len(scored)):\n",
        "        for j in range(i + 1, len(scored)):\n",
        "            if scored[j][1] > scored[i][1]:\n",
        "                temp = scored[i]\n",
        "                scored[i] = scored[j]\n",
        "                scored[j] = temp\n",
        "\n",
        "    result = []\n",
        "    if len(scored) <= N:\n",
        "        for pair in scored:\n",
        "            result.append(pair[0])\n",
        "        return result\n",
        "\n",
        "    threshold = scored[N - 1][1]\n",
        "\n",
        "    for pair in scored:\n",
        "        if pair[1] >= threshold:\n",
        "            result.append(pair[0])\n",
        "\n",
        "    return result\n",
        "\n"
      ],
      "metadata": {
        "id": "20LPNAvKUGJA"
      },
      "execution_count": null,
      "outputs": []
    },
    {
      "cell_type": "code",
      "source": [
        "#@title main BB algorinm\n",
        "\n",
        "def leaderboard_cyclopeptide_sequencing(spectrum, N):\n",
        "    leaderboard = [[]]\n",
        "    leader_peptide = []\n",
        "    parent = parent_mass(spectrum)\n",
        "\n",
        "    while leaderboard:\n",
        "        leaderboard = expand(leaderboard)\n",
        "        for peptide in leaderboard[:]:\n",
        "            m = mass(peptide)\n",
        "            if m == parent:\n",
        "                if score(peptide, spectrum) > score(leader_peptide, spectrum):\n",
        "                    leader_peptide = peptide\n",
        "            elif m > parent:\n",
        "                leaderboard.remove(peptide)\n",
        "        leaderboard = trim(leaderboard, spectrum, N)\n",
        "\n",
        "    return leader_peptide\n",
        "\n",
        "\n",
        "\n",
        "spectrum = read_mgf_peaks(\"CCMSLIB00000531485.txt\")\n",
        "result = leaderboard_cyclopeptide_sequencing(spectrum, N=20)\n",
        "\n",
        "print(\"Best-scoring peptide:\", decode_peptide(result), \"→\", result)\n"
      ],
      "metadata": {
        "colab": {
          "base_uri": "https://localhost:8080/"
        },
        "id": "u4Ms6Lz2g_gj",
        "outputId": "c47127d3-c48c-40e6-8ef6-f7619bdf99e2"
      },
      "execution_count": null,
      "outputs": [
        {
          "output_type": "stream",
          "name": "stdout",
          "text": [
            "Best-scoring peptide: PNNIMDG → [97, 114, 114, 113, 131, 115, 57]\n"
          ]
        }
      ]
    }
  ]
}